{
 "cells": [
  {
   "cell_type": "code",
   "execution_count": 1,
   "id": "905be861",
   "metadata": {},
   "outputs": [
    {
     "name": "stdout",
     "output_type": "stream",
     "text": [
      "✅ Modell trent ferdig!\n",
      "Mean Squared Error (MSE): 40.76083312365699\n",
      "R² Score: -0.00030100455949422233\n"
     ]
    }
   ],
   "source": [
    "import pandas as pd\n",
    "from sklearn.model_selection import train_test_split\n",
    "from sklearn.linear_model import LinearRegression\n",
    "from sklearn.metrics import mean_squared_error, r2_score\n",
    "\n",
    "# 1. Les datasettet med riktig sti og separatorer: \n",
    "df = pd.read_csv(\"Ruter-data.csv\", sep=';')\n",
    "\n",
    "# 2. Velg relevante kolonner\n",
    "data = df[['Dato', 'Passasjerer_Ombord']].copy()\n",
    "data.columns = ['Date', 'Passengers']\n",
    "\n",
    "# 3. Fjern ugyldige passasjertall\n",
    "data = data[data['Passengers'] >= 0]\n",
    "\n",
    "# 4. Konverter datoer til tall\n",
    "data['Date'] = pd.to_datetime(data['Date'], format=\"%d/%m/%Y\")\n",
    "data['Date'] = data['Date'].map(lambda x: x.toordinal())\n",
    "\n",
    "# 5. Lag input og output\n",
    "X = data[['Date']]\n",
    "y = data['Passengers']\n",
    "\n",
    "# 6. Del i trenings- og testdata\n",
    "X_train, X_test, y_train, y_test = train_test_split(X, y, test_size=0.2, random_state=42)\n",
    "\n",
    "# 7. Tren modellen\n",
    "model = LinearRegression()\n",
    "model.fit(X_train, y_train)\n",
    "\n",
    "# 8. Evaluer modellen\n",
    "y_pred = model.predict(X_test)\n",
    "mse = mean_squared_error(y_test, y_pred)\n",
    "r2 = r2_score(y_test, y_pred)\n",
    "\n",
    "print(\"✅ Modell trent ferdig!\")\n",
    "print(\"Mean Squared Error (MSE):\", mse)\n",
    "print(\"R² Score:\", r2)"
   ]
  }
 ],
 "metadata": {
  "kernelspec": {
   "display_name": "Python 3",
   "language": "python",
   "name": "python3"
  },
  "language_info": {
   "codemirror_mode": {
    "name": "ipython",
    "version": 3
   },
   "file_extension": ".py",
   "mimetype": "text/x-python",
   "name": "python",
   "nbconvert_exporter": "python",
   "pygments_lexer": "ipython3",
   "version": "3.13.3"
  }
 },
 "nbformat": 4,
 "nbformat_minor": 5
}
